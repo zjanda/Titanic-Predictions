{
 "cells": [
  {
   "cell_type": "code",
   "execution_count": 453,
   "metadata": {
    "collapsed": true,
    "pycharm": {
     "name": "#%%\n"
    }
   },
   "outputs": [],
   "source": [
    "import torch\n",
    "import pandas as pd\n",
    "import numpy as np\n",
    "from torch import nn\n",
    "from tqdm import tqdm\n",
    "from icecream import ic\n",
    "from torch.utils.data import DataLoader"
   ]
  },
  {
   "cell_type": "code",
   "execution_count": 454,
   "outputs": [],
   "source": [
    "train_csv = pd.read_csv('train.csv')\n",
    "test_csv = pd.read_csv('test.csv')"
   ],
   "metadata": {
    "collapsed": false,
    "pycharm": {
     "name": "#%%\n"
    }
   }
  },
  {
   "cell_type": "code",
   "execution_count": 455,
   "outputs": [
    {
     "data": {
      "text/plain": "     PassengerId  Survived  Pclass  \\\n0              1         0       3   \n1              2         1       1   \n2              3         1       3   \n3              4         1       1   \n4              5         0       3   \n..           ...       ...     ...   \n886          887         0       2   \n887          888         1       1   \n888          889         0       3   \n889          890         1       1   \n890          891         0       3   \n\n                                                  Name     Sex   Age  SibSp  \\\n0                              Braund, Mr. Owen Harris    male  22.0      1   \n1    Cumings, Mrs. John Bradley (Florence Briggs Th...  female  38.0      1   \n2                               Heikkinen, Miss. Laina  female  26.0      0   \n3         Futrelle, Mrs. Jacques Heath (Lily May Peel)  female  35.0      1   \n4                             Allen, Mr. William Henry    male  35.0      0   \n..                                                 ...     ...   ...    ...   \n886                              Montvila, Rev. Juozas    male  27.0      0   \n887                       Graham, Miss. Margaret Edith  female  19.0      0   \n888           Johnston, Miss. Catherine Helen \"Carrie\"  female   NaN      1   \n889                              Behr, Mr. Karl Howell    male  26.0      0   \n890                                Dooley, Mr. Patrick    male  32.0      0   \n\n     Parch            Ticket     Fare Cabin Embarked  \n0        0         A/5 21171   7.2500   NaN        S  \n1        0          PC 17599  71.2833   C85        C  \n2        0  STON/O2. 3101282   7.9250   NaN        S  \n3        0            113803  53.1000  C123        S  \n4        0            373450   8.0500   NaN        S  \n..     ...               ...      ...   ...      ...  \n886      0            211536  13.0000   NaN        S  \n887      0            112053  30.0000   B42        S  \n888      2        W./C. 6607  23.4500   NaN        S  \n889      0            111369  30.0000  C148        C  \n890      0            370376   7.7500   NaN        Q  \n\n[891 rows x 12 columns]",
      "text/html": "<div>\n<style scoped>\n    .dataframe tbody tr th:only-of-type {\n        vertical-align: middle;\n    }\n\n    .dataframe tbody tr th {\n        vertical-align: top;\n    }\n\n    .dataframe thead th {\n        text-align: right;\n    }\n</style>\n<table border=\"1\" class=\"dataframe\">\n  <thead>\n    <tr style=\"text-align: right;\">\n      <th></th>\n      <th>PassengerId</th>\n      <th>Survived</th>\n      <th>Pclass</th>\n      <th>Name</th>\n      <th>Sex</th>\n      <th>Age</th>\n      <th>SibSp</th>\n      <th>Parch</th>\n      <th>Ticket</th>\n      <th>Fare</th>\n      <th>Cabin</th>\n      <th>Embarked</th>\n    </tr>\n  </thead>\n  <tbody>\n    <tr>\n      <th>0</th>\n      <td>1</td>\n      <td>0</td>\n      <td>3</td>\n      <td>Braund, Mr. Owen Harris</td>\n      <td>male</td>\n      <td>22.0</td>\n      <td>1</td>\n      <td>0</td>\n      <td>A/5 21171</td>\n      <td>7.2500</td>\n      <td>NaN</td>\n      <td>S</td>\n    </tr>\n    <tr>\n      <th>1</th>\n      <td>2</td>\n      <td>1</td>\n      <td>1</td>\n      <td>Cumings, Mrs. John Bradley (Florence Briggs Th...</td>\n      <td>female</td>\n      <td>38.0</td>\n      <td>1</td>\n      <td>0</td>\n      <td>PC 17599</td>\n      <td>71.2833</td>\n      <td>C85</td>\n      <td>C</td>\n    </tr>\n    <tr>\n      <th>2</th>\n      <td>3</td>\n      <td>1</td>\n      <td>3</td>\n      <td>Heikkinen, Miss. Laina</td>\n      <td>female</td>\n      <td>26.0</td>\n      <td>0</td>\n      <td>0</td>\n      <td>STON/O2. 3101282</td>\n      <td>7.9250</td>\n      <td>NaN</td>\n      <td>S</td>\n    </tr>\n    <tr>\n      <th>3</th>\n      <td>4</td>\n      <td>1</td>\n      <td>1</td>\n      <td>Futrelle, Mrs. Jacques Heath (Lily May Peel)</td>\n      <td>female</td>\n      <td>35.0</td>\n      <td>1</td>\n      <td>0</td>\n      <td>113803</td>\n      <td>53.1000</td>\n      <td>C123</td>\n      <td>S</td>\n    </tr>\n    <tr>\n      <th>4</th>\n      <td>5</td>\n      <td>0</td>\n      <td>3</td>\n      <td>Allen, Mr. William Henry</td>\n      <td>male</td>\n      <td>35.0</td>\n      <td>0</td>\n      <td>0</td>\n      <td>373450</td>\n      <td>8.0500</td>\n      <td>NaN</td>\n      <td>S</td>\n    </tr>\n    <tr>\n      <th>...</th>\n      <td>...</td>\n      <td>...</td>\n      <td>...</td>\n      <td>...</td>\n      <td>...</td>\n      <td>...</td>\n      <td>...</td>\n      <td>...</td>\n      <td>...</td>\n      <td>...</td>\n      <td>...</td>\n      <td>...</td>\n    </tr>\n    <tr>\n      <th>886</th>\n      <td>887</td>\n      <td>0</td>\n      <td>2</td>\n      <td>Montvila, Rev. Juozas</td>\n      <td>male</td>\n      <td>27.0</td>\n      <td>0</td>\n      <td>0</td>\n      <td>211536</td>\n      <td>13.0000</td>\n      <td>NaN</td>\n      <td>S</td>\n    </tr>\n    <tr>\n      <th>887</th>\n      <td>888</td>\n      <td>1</td>\n      <td>1</td>\n      <td>Graham, Miss. Margaret Edith</td>\n      <td>female</td>\n      <td>19.0</td>\n      <td>0</td>\n      <td>0</td>\n      <td>112053</td>\n      <td>30.0000</td>\n      <td>B42</td>\n      <td>S</td>\n    </tr>\n    <tr>\n      <th>888</th>\n      <td>889</td>\n      <td>0</td>\n      <td>3</td>\n      <td>Johnston, Miss. Catherine Helen \"Carrie\"</td>\n      <td>female</td>\n      <td>NaN</td>\n      <td>1</td>\n      <td>2</td>\n      <td>W./C. 6607</td>\n      <td>23.4500</td>\n      <td>NaN</td>\n      <td>S</td>\n    </tr>\n    <tr>\n      <th>889</th>\n      <td>890</td>\n      <td>1</td>\n      <td>1</td>\n      <td>Behr, Mr. Karl Howell</td>\n      <td>male</td>\n      <td>26.0</td>\n      <td>0</td>\n      <td>0</td>\n      <td>111369</td>\n      <td>30.0000</td>\n      <td>C148</td>\n      <td>C</td>\n    </tr>\n    <tr>\n      <th>890</th>\n      <td>891</td>\n      <td>0</td>\n      <td>3</td>\n      <td>Dooley, Mr. Patrick</td>\n      <td>male</td>\n      <td>32.0</td>\n      <td>0</td>\n      <td>0</td>\n      <td>370376</td>\n      <td>7.7500</td>\n      <td>NaN</td>\n      <td>Q</td>\n    </tr>\n  </tbody>\n</table>\n<p>891 rows × 12 columns</p>\n</div>"
     },
     "execution_count": 455,
     "metadata": {},
     "output_type": "execute_result"
    }
   ],
   "source": [
    "train_csv"
   ],
   "metadata": {
    "collapsed": false,
    "pycharm": {
     "name": "#%%\n"
    }
   }
  },
  {
   "cell_type": "code",
   "execution_count": 456,
   "outputs": [],
   "source": [
    "unique = {}\n",
    "for i, x in enumerate(train_csv['Ticket']):\n",
    "    if x not in unique.keys():\n",
    "        unique[x] = i\n",
    "train_csv['Ticket'] = [unique[x] for x in train_csv['Ticket']]\n",
    "\n",
    "unique = {}\n",
    "for i, x in enumerate(test_csv['Ticket']):\n",
    "    if x not in unique.keys():\n",
    "        unique[x] = i\n",
    "test_csv['Ticket'] = [unique[x] for x in test_csv['Ticket']]"
   ],
   "metadata": {
    "collapsed": false,
    "pycharm": {
     "name": "#%%\n"
    }
   }
  },
  {
   "cell_type": "code",
   "execution_count": 457,
   "outputs": [
    {
     "name": "stdout",
     "output_type": "stream",
     "text": [
      "(891, 9)\n"
     ]
    },
    {
     "data": {
      "text/plain": "     Pclass     Sex   Age  SibSp  Parch  Ticket     Fare Embarked  Survived\n0         3    male  22.0      1      0       0   7.2500        S         0\n1         1  female  38.0      1      0       1  71.2833        C         1\n2         3  female  26.0      0      0       2   7.9250        S         1\n3         1  female  35.0      1      0       3  53.1000        S         1\n4         3    male  35.0      0      0       4   8.0500        S         0\n..      ...     ...   ...    ...    ...     ...      ...      ...       ...\n886       2    male  27.0      0      0     886  13.0000        S         0\n887       1  female  19.0      0      0     887  30.0000        S         1\n888       3  female   NaN      1      2     783  23.4500        S         0\n889       1    male  26.0      0      0     889  30.0000        C         1\n890       3    male  32.0      0      0     890   7.7500        Q         0\n\n[891 rows x 9 columns]",
      "text/html": "<div>\n<style scoped>\n    .dataframe tbody tr th:only-of-type {\n        vertical-align: middle;\n    }\n\n    .dataframe tbody tr th {\n        vertical-align: top;\n    }\n\n    .dataframe thead th {\n        text-align: right;\n    }\n</style>\n<table border=\"1\" class=\"dataframe\">\n  <thead>\n    <tr style=\"text-align: right;\">\n      <th></th>\n      <th>Pclass</th>\n      <th>Sex</th>\n      <th>Age</th>\n      <th>SibSp</th>\n      <th>Parch</th>\n      <th>Ticket</th>\n      <th>Fare</th>\n      <th>Embarked</th>\n      <th>Survived</th>\n    </tr>\n  </thead>\n  <tbody>\n    <tr>\n      <th>0</th>\n      <td>3</td>\n      <td>male</td>\n      <td>22.0</td>\n      <td>1</td>\n      <td>0</td>\n      <td>0</td>\n      <td>7.2500</td>\n      <td>S</td>\n      <td>0</td>\n    </tr>\n    <tr>\n      <th>1</th>\n      <td>1</td>\n      <td>female</td>\n      <td>38.0</td>\n      <td>1</td>\n      <td>0</td>\n      <td>1</td>\n      <td>71.2833</td>\n      <td>C</td>\n      <td>1</td>\n    </tr>\n    <tr>\n      <th>2</th>\n      <td>3</td>\n      <td>female</td>\n      <td>26.0</td>\n      <td>0</td>\n      <td>0</td>\n      <td>2</td>\n      <td>7.9250</td>\n      <td>S</td>\n      <td>1</td>\n    </tr>\n    <tr>\n      <th>3</th>\n      <td>1</td>\n      <td>female</td>\n      <td>35.0</td>\n      <td>1</td>\n      <td>0</td>\n      <td>3</td>\n      <td>53.1000</td>\n      <td>S</td>\n      <td>1</td>\n    </tr>\n    <tr>\n      <th>4</th>\n      <td>3</td>\n      <td>male</td>\n      <td>35.0</td>\n      <td>0</td>\n      <td>0</td>\n      <td>4</td>\n      <td>8.0500</td>\n      <td>S</td>\n      <td>0</td>\n    </tr>\n    <tr>\n      <th>...</th>\n      <td>...</td>\n      <td>...</td>\n      <td>...</td>\n      <td>...</td>\n      <td>...</td>\n      <td>...</td>\n      <td>...</td>\n      <td>...</td>\n      <td>...</td>\n    </tr>\n    <tr>\n      <th>886</th>\n      <td>2</td>\n      <td>male</td>\n      <td>27.0</td>\n      <td>0</td>\n      <td>0</td>\n      <td>886</td>\n      <td>13.0000</td>\n      <td>S</td>\n      <td>0</td>\n    </tr>\n    <tr>\n      <th>887</th>\n      <td>1</td>\n      <td>female</td>\n      <td>19.0</td>\n      <td>0</td>\n      <td>0</td>\n      <td>887</td>\n      <td>30.0000</td>\n      <td>S</td>\n      <td>1</td>\n    </tr>\n    <tr>\n      <th>888</th>\n      <td>3</td>\n      <td>female</td>\n      <td>NaN</td>\n      <td>1</td>\n      <td>2</td>\n      <td>783</td>\n      <td>23.4500</td>\n      <td>S</td>\n      <td>0</td>\n    </tr>\n    <tr>\n      <th>889</th>\n      <td>1</td>\n      <td>male</td>\n      <td>26.0</td>\n      <td>0</td>\n      <td>0</td>\n      <td>889</td>\n      <td>30.0000</td>\n      <td>C</td>\n      <td>1</td>\n    </tr>\n    <tr>\n      <th>890</th>\n      <td>3</td>\n      <td>male</td>\n      <td>32.0</td>\n      <td>0</td>\n      <td>0</td>\n      <td>890</td>\n      <td>7.7500</td>\n      <td>Q</td>\n      <td>0</td>\n    </tr>\n  </tbody>\n</table>\n<p>891 rows × 9 columns</p>\n</div>"
     },
     "execution_count": 457,
     "metadata": {},
     "output_type": "execute_result"
    }
   ],
   "source": [
    "useful_columns = ['Pclass', 'Sex', 'Age', 'SibSp', 'Parch', 'Ticket', 'Fare', 'Embarked', 'Survived']\n",
    "print(train_csv[useful_columns].shape)\n",
    "train_csv[useful_columns]"
   ],
   "metadata": {
    "collapsed": false,
    "pycharm": {
     "name": "#%%\n"
    }
   }
  },
  {
   "cell_type": "markdown",
   "source": [
    "### Replace Embarked Values with numbers"
   ],
   "metadata": {
    "collapsed": false,
    "pycharm": {
     "name": "#%% md\n"
    }
   }
  },
  {
   "cell_type": "code",
   "execution_count": 458,
   "outputs": [
    {
     "data": {
      "text/plain": "(0      0\n 1      1\n 2      0\n 3      0\n 4      0\n       ..\n 886    0\n 887    0\n 888    0\n 889    1\n 890    2\n Name: Embarked, Length: 891, dtype: int64,\n 0      2\n 1      0\n 2      2\n 3      0\n 4      0\n       ..\n 413    0\n 414    1\n 415    0\n 416    0\n 417    1\n Name: Embarked, Length: 418, dtype: int64)"
     },
     "execution_count": 458,
     "metadata": {},
     "output_type": "execute_result"
    }
   ],
   "source": [
    "letters = []\n",
    "[letters.append(x) for x in train_csv['Embarked'] if x not in letters]\n",
    "nan = letters[-1]\n",
    "train_csv['Embarked'] = [letters.index(x) for x in train_csv['Embarked']]\n",
    "test_csv['Embarked'] = [letters.index(x) for x in test_csv['Embarked']]\n",
    "train_csv['Embarked'], test_csv['Embarked']"
   ],
   "metadata": {
    "collapsed": false,
    "pycharm": {
     "name": "#%%\n"
    }
   }
  },
  {
   "cell_type": "markdown",
   "source": [
    "### Replace Sex values with numbers"
   ],
   "metadata": {
    "collapsed": false,
    "pycharm": {
     "name": "#%% md\n"
    }
   }
  },
  {
   "cell_type": "code",
   "execution_count": 459,
   "outputs": [
    {
     "data": {
      "text/plain": "(0      0\n 1      1\n 2      1\n 3      1\n 4      0\n       ..\n 886    0\n 887    1\n 888    1\n 889    0\n 890    0\n Name: Sex, Length: 891, dtype: int64,\n 0      0\n 1      1\n 2      0\n 3      0\n 4      1\n       ..\n 413    0\n 414    1\n 415    0\n 416    0\n 417    0\n Name: Sex, Length: 418, dtype: int64)"
     },
     "execution_count": 459,
     "metadata": {},
     "output_type": "execute_result"
    }
   ],
   "source": [
    "train_csv['Sex'] = [(0 if x == 'male' else 1) for x in train_csv['Sex']]\n",
    "test_csv['Sex'] = [(0 if x == 'male' else 1) for x in test_csv['Sex']]\n",
    "train_csv['Sex'], test_csv['Sex']"
   ],
   "metadata": {
    "collapsed": false,
    "pycharm": {
     "name": "#%%\n"
    }
   }
  },
  {
   "cell_type": "markdown",
   "source": [
    "### Clean out NaN values from Age"
   ],
   "metadata": {
    "collapsed": false,
    "pycharm": {
     "name": "#%% md\n"
    }
   }
  },
  {
   "cell_type": "code",
   "execution_count": 460,
   "outputs": [
    {
     "data": {
      "text/plain": "0      22.0\n1      38.0\n2      26.0\n3      35.0\n4      35.0\n       ... \n886    27.0\n887    19.0\n888    -1.0\n889    26.0\n890    32.0\nName: Age, Length: 891, dtype: float64"
     },
     "execution_count": 460,
     "metadata": {},
     "output_type": "execute_result"
    }
   ],
   "source": [
    "ages = []\n",
    "[ages.append(x) for x in train_csv['Age'] if x not in ages]\n",
    "\n",
    "train_csv['Age'] = [(x if x > 0 else -1) for x in train_csv['Age']]\n",
    "test_csv['Age'] = [(x if x > 0 else -1) for x in test_csv['Age']]\n",
    "train_csv['Age']"
   ],
   "metadata": {
    "collapsed": false,
    "pycharm": {
     "name": "#%%\n"
    }
   }
  },
  {
   "cell_type": "code",
   "execution_count": 461,
   "outputs": [
    {
     "name": "stdout",
     "output_type": "stream",
     "text": [
      "(712, 9)\n",
      "(179, 9)\n"
     ]
    }
   ],
   "source": [
    "split = int(train_csv.shape[0] * .80)\n",
    "data = train_csv[useful_columns].to_numpy()\n",
    "np.random.shuffle(data)\n",
    "train_dataset = data[:split]\n",
    "val_dataset = data[split:]\n",
    "print(train_dataset.shape)\n",
    "test_dataset = test_csv[[x for x in useful_columns if x not in ['Survived']]].to_numpy()\n",
    "print(val_dataset.shape)"
   ],
   "metadata": {
    "collapsed": false,
    "pycharm": {
     "name": "#%%\n"
    }
   }
  },
  {
   "cell_type": "code",
   "execution_count": 462,
   "outputs": [],
   "source": [
    "class NeuralNet(nn.Module):\n",
    "    def __init__(self, input_size, hidden_size, num_classes=1, actFn=nn.Sigmoid()):\n",
    "        super(NeuralNet, self).__init__()\n",
    "        self.linear1 = nn.Linear(input_size, hidden_size)\n",
    "        self.actFn = actFn\n",
    "        self.linear2 = nn.Linear(hidden_size, hidden_size)\n",
    "        self.linear3 = nn.Linear(hidden_size, num_classes)\n",
    "\n",
    "    def forward(self, x):\n",
    "        out = self.linear1(x)\n",
    "        # out = self.actFn(out)\n",
    "        out = self.linear2(out)\n",
    "        # out = self.linear3(out)\n",
    "        # out = self.actFn(out)\n",
    "        return out"
   ],
   "metadata": {
    "collapsed": false,
    "pycharm": {
     "name": "#%%\n"
    }
   }
  },
  {
   "cell_type": "code",
   "execution_count": 463,
   "outputs": [
    {
     "name": "stderr",
     "output_type": "stream",
     "text": [
      "ic| 'cpu' if torch.cuda.is_available() else 'cpu': 'cpu'\n"
     ]
    }
   ],
   "source": [
    "device = ic('cpu' if torch.cuda.is_available() else 'cpu')"
   ],
   "metadata": {
    "collapsed": false,
    "pycharm": {
     "name": "#%%\n"
    }
   }
  },
  {
   "cell_type": "code",
   "execution_count": 464,
   "outputs": [
    {
     "name": "stdout",
     "output_type": "stream",
     "text": [
      "(418, 8)\n"
     ]
    }
   ],
   "source": [
    "print(test_dataset.shape)"
   ],
   "metadata": {
    "collapsed": false,
    "pycharm": {
     "name": "#%%\n"
    }
   }
  },
  {
   "cell_type": "code",
   "execution_count": 465,
   "outputs": [],
   "source": [
    "class HyperParameters:\n",
    "    var_script = 'input_size, hidden_sizes, num_classes, batch_sizes, nums_epochs, learning_rates, activation_functions'\n",
    "\n",
    "    def __init__(self, input_size, hidden_sizes, num_classes, batch_sizes, nums_epochs, learning_rates, actFns):\n",
    "        self.input_size = input_size\n",
    "        self.hidden_sizes_list = hidden_sizes\n",
    "        self.num_classes = num_classes\n",
    "        self.batch_sizes_list = batch_sizes\n",
    "        self.nums_epochs_list = nums_epochs\n",
    "        self.learning_rates_list = learning_rates\n",
    "        self.actFns = actFns\n",
    "        self.parameters = input_size, hidden_sizes, num_classes, batch_sizes, nums_epochs, learning_rates, actFns\n",
    "\n",
    "    def print(self, acc, params):\n",
    "        print('Benchmark Test:')\n",
    "        print('Input Size:', self.input_size)\n",
    "        print('Hidden Size:', params[0])\n",
    "        print('Number of Classes:', self.num_classes)\n",
    "        print('Batch Size:', params[1])\n",
    "        print('Number of Epochs:', params[2])\n",
    "        print('Learning Rate:', params[3])\n",
    "        print('Activation Function:', str(params[4]))\n",
    "        print()\n",
    "        print('Accuracy of model:', acc)\n",
    "        print()\n",
    "        print()\n",
    "\n",
    "\n",
    "input_size = train_dataset.shape[1] - 1\n",
    "hidden_sizes = [20, 30, 100, 500] #[30, 50, 100, 500]\n",
    "num_classes = 2\n",
    "batch_sizes = [30] #[30, 50, 100]\n",
    "nums_epochs = [500] # [250, 500]\n",
    "learning_rates = [.05] #[.01, .05]\n",
    "activation_functions = [nn.Softmin()]#[nn.Sigmoid(), nn.Tanh(), nn.ReLU(), nn.ReLU6(), nn.Softmax(), nn.LeakyReLU(), nn.Softmin(), nn.Softshrink()]\n",
    "\n",
    "hyper_params = HyperParameters(input_size, hidden_sizes, num_classes, batch_sizes, nums_epochs, learning_rates, activation_functions)"
   ],
   "metadata": {
    "collapsed": false,
    "pycharm": {
     "name": "#%%\n"
    }
   }
  },
  {
   "cell_type": "code",
   "execution_count": 466,
   "outputs": [],
   "source": [
    "def get_accuracy(model, test_loader):\n",
    "    with torch.no_grad():\n",
    "        n_correct = 0\n",
    "        n_samples = 0\n",
    "\n",
    "        for sample in test_loader:\n",
    "            inputs = sample[:, :-1].float().to(device)\n",
    "            labels = sample[:, -1].long().to(device)\n",
    "\n",
    "            inputs -= inputs.min()\n",
    "            inputs /= inputs.max()\n",
    "\n",
    "            outputs = model(inputs)\n",
    "\n",
    "            _, pred = torch.max(outputs, 1)\n",
    "\n",
    "            n_samples += labels.shape[0]\n",
    "            n_correct += (pred == labels).sum().item()\n",
    "\n",
    "        acc = 100 * n_correct / n_samples\n",
    "\n",
    "        return acc"
   ],
   "metadata": {
    "collapsed": false,
    "pycharm": {
     "name": "#%%\n"
    }
   }
  },
  {
   "cell_type": "code",
   "execution_count": 467,
   "outputs": [],
   "source": [
    "def BenchmarkTesting(hyper_parameters: HyperParameters):\n",
    "    input_size, hidden_sizes, num_classes, batch_sizes, nums_epochs, learning_rates, activation_functions = hyper_parameters.parameters\n",
    "    results = {}\n",
    "    total_iterations = len(hidden_sizes) * len(batch_sizes) * len(nums_epochs) * len(learning_rates) * len(activation_functions)\n",
    "    iteration = 0\n",
    "    for hidden_size in hidden_sizes:\n",
    "        for batch_size in batch_sizes:\n",
    "            for num_epochs in nums_epochs:\n",
    "                for learning_rate in learning_rates:\n",
    "                    for activation_function in activation_functions:\n",
    "                        model = NeuralNet(input_size, hidden_size, num_classes, activation_function).to(device)\n",
    "                        criterion = nn.CrossEntropyLoss().to(device)\n",
    "                        optimizer = torch.optim.Adam(model.parameters(), lr=learning_rate)\n",
    "                        train_loader = DataLoader(dataset=train_dataset, batch_size=batch_size, shuffle=True)\n",
    "                        test_loader = DataLoader(dataset=val_dataset, batch_size=batch_size, shuffle=True)\n",
    "                        for epoch in range(num_epochs):\n",
    "                            for i, sample in enumerate(train_loader):\n",
    "                                # extract data from sample\n",
    "                                inputs = sample[..., :-1].float().to(device)\n",
    "                                labels = sample[..., -1].long().to(device)\n",
    "\n",
    "                                # inputs = normalize_hands(inputs).float()\n",
    "                                inputs = inputs.reshape(-1, input_size)\n",
    "                                inputs -= inputs.min()\n",
    "                                inputs /= inputs.max()\n",
    "\n",
    "                                # forward pass\n",
    "                                outputs = model(inputs).float()\n",
    "                                loss = criterion(outputs, labels)\n",
    "\n",
    "                                # backward pass\n",
    "                                loss.backward()\n",
    "                                optimizer.step()\n",
    "                                optimizer.zero_grad()\n",
    "\n",
    "                        params = [hidden_size, batch_size, num_epochs, learning_rate, activation_function]\n",
    "                        accuracy = np.median([get_accuracy(model, test_loader) for _ in range(300)])\n",
    "                        results[accuracy] = params\n",
    "                        iteration += 1\n",
    "                        print(f'Completion: {(iteration / total_iterations * 100):.2f}%')\n",
    "                        print(f'Iteration {iteration} out of {total_iterations}.\\n')\n",
    "                        hyper_parameters.print(accuracy, params)\n",
    "    return results"
   ],
   "metadata": {
    "collapsed": false,
    "pycharm": {
     "name": "#%%\n"
    }
   }
  },
  {
   "cell_type": "code",
   "execution_count": 468,
   "outputs": [
    {
     "name": "stdout",
     "output_type": "stream",
     "text": [
      "Completion: 25.00%\n",
      "Iteration 1 out of 4.\n",
      "\n",
      "Benchmark Test:\n",
      "Input Size: 8\n",
      "Hidden Size: 20\n",
      "Number of Classes: 2\n",
      "Batch Size: 30\n",
      "Number of Epochs: 500\n",
      "Learning Rate: 0.05\n",
      "Activation Function: Softmin(dim=None)\n",
      "\n",
      "Accuracy of model: 84.35754189944134\n",
      "\n",
      "\n",
      "Completion: 50.00%\n",
      "Iteration 2 out of 4.\n",
      "\n",
      "Benchmark Test:\n",
      "Input Size: 8\n",
      "Hidden Size: 30\n",
      "Number of Classes: 2\n",
      "Batch Size: 30\n",
      "Number of Epochs: 500\n",
      "Learning Rate: 0.05\n",
      "Activation Function: Softmin(dim=None)\n",
      "\n",
      "Accuracy of model: 79.32960893854748\n",
      "\n",
      "\n",
      "Completion: 75.00%\n",
      "Iteration 3 out of 4.\n",
      "\n",
      "Benchmark Test:\n",
      "Input Size: 8\n",
      "Hidden Size: 100\n",
      "Number of Classes: 2\n",
      "Batch Size: 30\n",
      "Number of Epochs: 500\n",
      "Learning Rate: 0.05\n",
      "Activation Function: Softmin(dim=None)\n",
      "\n",
      "Accuracy of model: 84.91620111731844\n",
      "\n",
      "\n",
      "Completion: 100.00%\n",
      "Iteration 4 out of 4.\n",
      "\n",
      "Benchmark Test:\n",
      "Input Size: 8\n",
      "Hidden Size: 500\n",
      "Number of Classes: 2\n",
      "Batch Size: 30\n",
      "Number of Epochs: 500\n",
      "Learning Rate: 0.05\n",
      "Activation Function: Softmin(dim=None)\n",
      "\n",
      "Accuracy of model: 81.00558659217877\n",
      "\n",
      "\n"
     ]
    }
   ],
   "source": [
    "results = BenchmarkTesting(hyper_params)"
   ],
   "metadata": {
    "collapsed": false,
    "pycharm": {
     "name": "#%%\n"
    }
   }
  },
  {
   "cell_type": "code",
   "execution_count": 469,
   "outputs": [
    {
     "name": "stdout",
     "output_type": "stream",
     "text": [
      "Benchmark Test:\n",
      "Input Size: 8\n",
      "Hidden Size: 100\n",
      "Number of Classes: 2\n",
      "Batch Size: 30\n",
      "Number of Epochs: 500\n",
      "Learning Rate: 0.05\n",
      "Activation Function: Softmin(dim=None)\n",
      "\n",
      "Accuracy of model: 84.91620111731844\n",
      "\n",
      "\n"
     ]
    }
   ],
   "source": [
    "highest_accuracy = max(list(results.keys()))\n",
    "hyper_params.print(highest_accuracy, results[highest_accuracy])"
   ],
   "metadata": {
    "collapsed": false,
    "pycharm": {
     "name": "#%%\n"
    }
   }
  },
  {
   "cell_type": "code",
   "execution_count": 470,
   "outputs": [
    {
     "name": "stderr",
     "output_type": "stream",
     "text": [
      "\n",
      "\n",
      "0it [00:00, ?it/s]"
     ]
    },
    {
     "name": "stdout",
     "output_type": "stream",
     "text": [
      "Benchmark Test:\n",
      "Input Size: 8\n",
      "Hidden Size: 100\n",
      "Number of Classes: 2\n",
      "Batch Size: 30\n",
      "Number of Epochs: 500\n",
      "Learning Rate: 0.05\n",
      "Activation Function: Softmin(dim=None)\n",
      "\n",
      "Accuracy of model: 73.54722222222222\n",
      "\n",
      "\n"
     ]
    },
    {
     "name": "stderr",
     "output_type": "stream",
     "text": [
      "\n",
      "\n",
      "1it [00:15, 15.08s/it]"
     ]
    },
    {
     "name": "stdout",
     "output_type": "stream",
     "text": [
      "Benchmark Test:\n",
      "Input Size: 8\n",
      "Hidden Size: 100\n",
      "Number of Classes: 2\n",
      "Batch Size: 30\n",
      "Number of Epochs: 500\n",
      "Learning Rate: 0.05\n",
      "Activation Function: Softmin(dim=None)\n",
      "\n",
      "Accuracy of model: 76.23055555555557\n",
      "\n",
      "\n"
     ]
    },
    {
     "name": "stderr",
     "output_type": "stream",
     "text": [
      "\n",
      "\n",
      "2it [00:30, 15.08s/it]"
     ]
    },
    {
     "name": "stdout",
     "output_type": "stream",
     "text": [
      "Benchmark Test:\n",
      "Input Size: 8\n",
      "Hidden Size: 100\n",
      "Number of Classes: 2\n",
      "Batch Size: 30\n",
      "Number of Epochs: 500\n",
      "Learning Rate: 0.05\n",
      "Activation Function: Softmin(dim=None)\n",
      "\n",
      "Accuracy of model: 73.0450704225352\n",
      "\n",
      "\n"
     ]
    },
    {
     "name": "stderr",
     "output_type": "stream",
     "text": [
      "\n",
      "\n",
      "3it [00:45, 15.14s/it]"
     ]
    },
    {
     "name": "stdout",
     "output_type": "stream",
     "text": [
      "Benchmark Test:\n",
      "Input Size: 8\n",
      "Hidden Size: 100\n",
      "Number of Classes: 2\n",
      "Batch Size: 30\n",
      "Number of Epochs: 500\n",
      "Learning Rate: 0.05\n",
      "Activation Function: Softmin(dim=None)\n",
      "\n",
      "Accuracy of model: 85.90422535211266\n",
      "\n",
      "\n"
     ]
    },
    {
     "name": "stderr",
     "output_type": "stream",
     "text": [
      "\n",
      "\n",
      "4it [01:00, 15.07s/it]"
     ]
    },
    {
     "name": "stdout",
     "output_type": "stream",
     "text": [
      "Benchmark Test:\n",
      "Input Size: 8\n",
      "Hidden Size: 100\n",
      "Number of Classes: 2\n",
      "Batch Size: 30\n",
      "Number of Epochs: 500\n",
      "Learning Rate: 0.05\n",
      "Activation Function: Softmin(dim=None)\n",
      "\n",
      "Accuracy of model: 74.90985915492958\n",
      "\n",
      "\n"
     ]
    },
    {
     "name": "stderr",
     "output_type": "stream",
     "text": [
      "\n",
      "\n",
      "5it [01:15, 15.14s/it]"
     ]
    },
    {
     "name": "stdout",
     "output_type": "stream",
     "text": [
      "Benchmark Test:\n",
      "Input Size: 8\n",
      "Hidden Size: 100\n",
      "Number of Classes: 2\n",
      "Batch Size: 30\n",
      "Number of Epochs: 500\n",
      "Learning Rate: 0.05\n",
      "Activation Function: Softmin(dim=None)\n",
      "\n",
      "Accuracy of model: 76.05070422535209\n",
      "\n",
      "\n"
     ]
    },
    {
     "name": "stderr",
     "output_type": "stream",
     "text": [
      "\n",
      "\n",
      "6it [01:30, 15.15s/it]"
     ]
    },
    {
     "name": "stdout",
     "output_type": "stream",
     "text": [
      "Benchmark Test:\n",
      "Input Size: 8\n",
      "Hidden Size: 100\n",
      "Number of Classes: 2\n",
      "Batch Size: 30\n",
      "Number of Epochs: 500\n",
      "Learning Rate: 0.05\n",
      "Activation Function: Softmin(dim=None)\n",
      "\n",
      "Accuracy of model: 73.78309859154929\n",
      "\n",
      "\n"
     ]
    },
    {
     "name": "stderr",
     "output_type": "stream",
     "text": [
      "\n",
      "\n",
      "7it [01:45, 15.16s/it]"
     ]
    },
    {
     "name": "stdout",
     "output_type": "stream",
     "text": [
      "Benchmark Test:\n",
      "Input Size: 8\n",
      "Hidden Size: 100\n",
      "Number of Classes: 2\n",
      "Batch Size: 30\n",
      "Number of Epochs: 500\n",
      "Learning Rate: 0.05\n",
      "Activation Function: Softmin(dim=None)\n",
      "\n",
      "Accuracy of model: 68.24225352112676\n",
      "\n",
      "\n"
     ]
    },
    {
     "name": "stderr",
     "output_type": "stream",
     "text": [
      "\n",
      "\n",
      "8it [02:01, 15.15s/it]"
     ]
    },
    {
     "name": "stdout",
     "output_type": "stream",
     "text": [
      "Benchmark Test:\n",
      "Input Size: 8\n",
      "Hidden Size: 100\n",
      "Number of Classes: 2\n",
      "Batch Size: 30\n",
      "Number of Epochs: 500\n",
      "Learning Rate: 0.05\n",
      "Activation Function: Softmin(dim=None)\n",
      "\n",
      "Accuracy of model: 80.70985915492957\n",
      "\n",
      "\n"
     ]
    },
    {
     "name": "stderr",
     "output_type": "stream",
     "text": [
      "\n",
      "\n",
      "9it [02:16, 15.15s/it]"
     ]
    },
    {
     "name": "stdout",
     "output_type": "stream",
     "text": [
      "Benchmark Test:\n",
      "Input Size: 8\n",
      "Hidden Size: 100\n",
      "Number of Classes: 2\n",
      "Batch Size: 30\n",
      "Number of Epochs: 500\n",
      "Learning Rate: 0.05\n",
      "Activation Function: Softmin(dim=None)\n",
      "\n",
      "Accuracy of model: 80.05633802816901\n",
      "\n",
      "\n"
     ]
    },
    {
     "name": "stderr",
     "output_type": "stream",
     "text": [
      "\n",
      "\n",
      "10it [02:31, 15.16s/it]\n"
     ]
    }
   ],
   "source": [
    "from sklearn.model_selection import KFold\n",
    "from sklearn.model_selection import LeaveOneOut\n",
    "splits = 10\n",
    "kf = KFold(n_splits=splits)\n",
    "# kf = LeaveOneOut()\n",
    "acc_list = []\n",
    "for i, indices in tqdm(enumerate(kf.split(train_dataset))):\n",
    "    train_index, test_index = indices\n",
    "    train_dataset = data[train_index]\n",
    "    val_dataset = data[test_index]\n",
    "    hidden_size, batch_size, num_epochs, learning_rate, activation_function = results[highest_accuracy]\n",
    "    model = NeuralNet(input_size, hidden_size, num_classes, activation_function).to(device)\n",
    "    criterion = nn.CrossEntropyLoss().to(device)\n",
    "    optimizer = torch.optim.Adam(model.parameters(), lr=learning_rate)\n",
    "    kf_train_loader = DataLoader(dataset=train_dataset, batch_size=batch_size, shuffle=True)\n",
    "    kf_test_loader = DataLoader(dataset=val_dataset, batch_size=batch_size, shuffle=True)\n",
    "\n",
    "    for epoch in range(num_epochs):\n",
    "        for i, sample in enumerate(kf_train_loader):\n",
    "            # extract data from sample\n",
    "            inputs = sample[..., :-1].float().to(device)\n",
    "            labels = sample[..., -1].long().to(device)\n",
    "\n",
    "            # inputs = normalize_hands(inputs).float()\n",
    "            inputs = inputs.reshape(-1, input_size)\n",
    "            inputs -= inputs.min()\n",
    "            inputs /= inputs.max()\n",
    "\n",
    "            # forward pass\n",
    "            outputs = model(inputs).float()\n",
    "            loss = criterion(outputs, labels)\n",
    "\n",
    "            # backward pass\n",
    "            loss.backward()\n",
    "            optimizer.step()\n",
    "            optimizer.zero_grad()\n",
    "\n",
    "        # if (epoch + 1) % (num_epochs / 10) == 0:\n",
    "            # print(f'epoch {epoch + 1}/{num_epochs}, loss = {loss.item():.4f}')\n",
    "\n",
    "    average = np.average([get_accuracy(model, kf_test_loader) for _ in range(500)])\n",
    "    acc_list.append(average)\n",
    "    hyper_params.print(average, results[highest_accuracy])"
   ],
   "metadata": {
    "collapsed": false,
    "pycharm": {
     "name": "#%%\n"
    }
   }
  },
  {
   "cell_type": "code",
   "execution_count": 471,
   "outputs": [
    {
     "name": "stderr",
     "output_type": "stream",
     "text": [
      "ic| np.average(acc_list): 76.24791862284819\n"
     ]
    },
    {
     "name": "stdout",
     "output_type": "stream",
     "text": [
      "(71, 9)\n",
      "Benchmark Test:\n",
      "Input Size: 8\n",
      "Hidden Size: 100\n",
      "Number of Classes: 2\n",
      "Batch Size: 30\n",
      "Number of Epochs: 500\n",
      "Learning Rate: 0.05\n",
      "Activation Function: Softmin(dim=None)\n",
      "\n",
      "Accuracy of model: 80.08112676056338\n",
      "\n",
      "\n"
     ]
    }
   ],
   "source": [
    "import winsound\n",
    "frequency = 440  # Set Frequency To 2500 Hertz\n",
    "duration = 1000  # Set Duration To 1000 ms == 1 second\n",
    "winsound.Beep(frequency, duration)\n",
    "\n",
    "test_loader = DataLoader(val_dataset, batch_size=batch_size, shuffle=True)\n",
    "ic(np.average(acc_list))\n",
    "print(test_loader.dataset.shape)\n",
    "hyper_params.print(np.average([get_accuracy(model, test_loader) for _ in range(5000)]), results[highest_accuracy])"
   ],
   "metadata": {
    "collapsed": false,
    "pycharm": {
     "name": "#%%\n"
    }
   }
  },
  {
   "cell_type": "code",
   "execution_count": 472,
   "outputs": [
    {
     "data": {
      "text/plain": "(418, 8)"
     },
     "execution_count": 472,
     "metadata": {},
     "output_type": "execute_result"
    }
   ],
   "source": [
    "test_csv[[x for x in useful_columns if x not in ['Survived']]].shape"
   ],
   "metadata": {
    "collapsed": false,
    "pycharm": {
     "name": "#%%\n"
    }
   }
  },
  {
   "cell_type": "code",
   "execution_count": 474,
   "outputs": [
    {
     "name": "stdout",
     "output_type": "stream",
     "text": [
      "[ 1  2  4  6  8 10]\n",
      "[440 476 513 550 586 623 660 696 733 770 806 843 880]\n"
     ]
    }
   ],
   "source": [
    "\n",
    "\n",
    "# def divide(start, end, steps):\n",
    "#     assert start < end\n",
    "#     step = (end - start) / steps\n",
    "#\n",
    "#     return np.array([int(start + step * i) for i in range(steps + 1)])\n",
    "# print(divide(1, 10, 5))\n",
    "#\n",
    "# frequencies = divide(440, 880, 12)\n",
    "# print(frequencies)\n",
    "#\n",
    "# scale = np.array([1, 3, 4, 6, 8, 9, 11, 13]) - 1\n",
    "# # for frequency in frequencies[scale]:"
   ],
   "metadata": {
    "collapsed": false,
    "pycharm": {
     "name": "#%%\n"
    }
   }
  },
  {
   "cell_type": "code",
   "execution_count": 473,
   "outputs": [],
   "source": [],
   "metadata": {
    "collapsed": false,
    "pycharm": {
     "name": "#%%\n"
    }
   }
  }
 ],
 "metadata": {
  "kernelspec": {
   "display_name": "Python 3",
   "language": "python",
   "name": "python3"
  },
  "language_info": {
   "codemirror_mode": {
    "name": "ipython",
    "version": 2
   },
   "file_extension": ".py",
   "mimetype": "text/x-python",
   "name": "python",
   "nbconvert_exporter": "python",
   "pygments_lexer": "ipython2",
   "version": "2.7.6"
  }
 },
 "nbformat": 4,
 "nbformat_minor": 0
}